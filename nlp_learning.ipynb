{
 "cells": [
  {
   "cell_type": "code",
   "execution_count": 1,
   "metadata": {
    "scrolled": true
   },
   "outputs": [
    {
     "name": "stderr",
     "output_type": "stream",
     "text": [
      "Using TensorFlow backend.\n",
      "/Library/Frameworks/Python.framework/Versions/3.6/lib/python3.6/importlib/_bootstrap.py:219: RuntimeWarning: compiletime version 3.5 of module 'tensorflow.python.framework.fast_tensor_util' does not match runtime version 3.6\n",
      "  return f(*args, **kwds)\n"
     ]
    },
    {
     "name": "stdout",
     "output_type": "stream",
     "text": [
      "Loading complete!\n"
     ]
    }
   ],
   "source": [
    "from keras.models import Sequential\n",
    "from keras.layers import Dense, Dropout, Activation, Flatten, Conv2D, pooling, SimpleRNN, LSTM, BatchNormalization\n",
    "from keras.wrappers.scikit_learn import KerasClassifier\n",
    "from keras.utils import np_utils\n",
    "from sklearn.model_selection import train_test_split\n",
    "from sklearn import model_selection, metrics\n",
    "from WordDictionary import WordDictionary\n",
    "import json\n",
    "import numpy as np\n",
    "import math\n",
    "\n",
    "print('Loading complete!')"
   ]
  },
  {
   "cell_type": "code",
   "execution_count": 2,
   "metadata": {},
   "outputs": [],
   "source": [
    "def d_2d_to_3d(x, add_one_dim = True):\n",
    "    shape_size = math.ceil(math.sqrt(max_words))\n",
    "    len_x = len(x)\n",
    "    x3d = []\n",
    "    for i in range(len_x):\n",
    "        row = x[i]\n",
    "        zero_arr = np.zeros(shape_size * shape_size)\n",
    "        zero_arr[:len(row)] += row\n",
    "        if add_one_dim:\n",
    "            zero_arr = zero_arr.reshape([shape_size, shape_size, 1])\n",
    "        else:\n",
    "            zero_arr = zero_arr.reshape([shape_size, shape_size])\n",
    "        x3d.append(zero_arr)\n",
    "        \n",
    "    return np.array(x3d)"
   ]
  },
  {
   "cell_type": "markdown",
   "metadata": {},
   "source": [
    "사용 데이터\n",
    "==========\n",
    "- ISEAR데이터 ('Anger', 'Hate', 'Fear', 'Sorry', 'Joy', 'Neutral', 'Sadness', 'Shame' 8가지 감정)\n",
    "- 영어로 구성된 문장\n",
    "- 10라인을 하나의 데이터 단위로 사용\n",
    "\n",
    "전처리\n",
    "====\n",
    "__[한글_KoNLPy]__\n",
    "- Okt형태소 분석기를 사용\n",
    "- 조사, 어미, 구두점, 특수기호, 외국어 및 한글자로 되어있는 단어 제외\n",
    "\n",
    "__[영어_NLTK]__\n",
    "- Stemming(어간추출, 형태소 분석)\n",
    "    * 어간 추출은 어형이 변형된 단어로부터 접사 등을 제거하고 그 단어의 어간을 분리해 내는 것\n",
    "    * \"message\", \"messages\", \"messaging\" 과 같이 복수형, 진행형 등의 문자를 같은 의미의 단어로 다룰 수 있도록 도와준다.\n",
    "- Lemmatization(음소 표기법)\n",
    "    * 단어의 보조 정리 또는 사전 형식에 의해 식별되는 단일 항목으로 분석 될 수 있도록 굴절 된 형태의 단어를 그룹화 하는 과정. \n",
    "    * 쉽게 말해서 단어의 원형(lemma)를 찾는 것\n",
    "- stopword(불용어) 제거\n",
    "    * 빈번하게 등장하지만 실제 의미를 찾는데 큰 기여를 하지 않는 단어 (i, me, my, it, this, that, is, are 등)\n",
    "    \n",
    "임베딩\n",
    "====\n",
    "CNN모델의 입력 데이터로 사용하기 위해서 형태소 분석된 문장의 단어들을 __전체 단어수의 제곱근을 올림 한 값__ 으로 크기를 잡은 2차원 배열에 표시한다.\n",
    "올림으로 인해서 남는 배열 공간은 __padding(0)__ 으로 채운다.\n",
    "\n",
    "    ex) \"집에서 키우는 강아지가 죽었다. 정이 많이 들었던 강아지였는데 너무 슬퍼서 눈물이 난다.\"\n",
    "        \n",
    "        * 형태소 분석 :    ('집', 'Noun')\n",
    "                        ('키우는', 'Verb')\n",
    "                        ('강아지', 'Noun')\n",
    "                        ('죽었다', 'Verb')\n",
    "                        ('정이', 'Noun')\n",
    "                        ('많이', 'Adverb')\n",
    "                        ('들었던', 'Verb')\n",
    "                        ('강아지', 'Noun')\n",
    "                        ('였는데', 'Verb')\n",
    "                        ('너무', 'Adverb')\n",
    "                        ('슬퍼서', 'Adjective')\n",
    "                        ('눈물', 'Noun')\n",
    "                        ('난다', 'Verb')\n",
    "                    \n",
    "        * Tokenizing : {'집' : 0, \n",
    "                        '키우는 : 1,\n",
    "                        '강아지 : 2,\n",
    "                        '죽었다' : 3,\n",
    "                        '정이' : 4,\n",
    "                        '많이' : 5,\n",
    "                        '들었던' : 6,\n",
    "                        '강아지' : 2,\n",
    "                        '였는데' : 7,\n",
    "                        '너무' : 8,\n",
    "                        '슬퍼서' : 9,\n",
    "                        '눈물' : 10,\n",
    "                        '난다' : 11}\n",
    "                        \n",
    "        * max word size : 12\n",
    "        * shape size : 4\n",
    "                        \n",
    "        * Word Embedding : 4 by 4 2dimension matrix\n",
    "                        [[1, 1, 2, 1],\n",
    "                         [1, 1, 1, 1],\n",
    "                         [1, 1, 1, 1],\n",
    "                         [0, 0, 0, 0]]"
   ]
  },
  {
   "cell_type": "code",
   "execution_count": 3,
   "metadata": {},
   "outputs": [
    {
     "name": "stdout",
     "output_type": "stream",
     "text": [
      "WordDictionary load complete!\n"
     ]
    }
   ],
   "source": [
    "MAX_LINE_CNT = 10\n",
    "\n",
    "wordDictionary = WordDictionary()\n",
    "wordDictionary.Load(MAX_LINE_CNT, 'en')\n",
    "\n",
    "max_words = wordDictionary.GetDictionaryCnt()\n",
    "nb_classes = 8\n",
    "batch_size = 64\n",
    "nb_epoch = 10\n",
    "language = 'en'\n",
    "\n",
    "data = json.load(open(\"emotionData/data_{0}_line_{1}.json\".format(MAX_LINE_CNT, language)))\n",
    "X = data[\"X\"]\n",
    "Y = data[\"Y\"]"
   ]
  },
  {
   "cell_type": "code",
   "execution_count": 18,
   "metadata": {},
   "outputs": [
    {
     "name": "stdout",
     "output_type": "stream",
     "text": [
      "Anger cnt : 120\n",
      "Hate cnt : 241\n",
      "Fear cnt : 955\n",
      "Sorry cnt : 108\n",
      "Joy cnt : 1192\n",
      "Neutral cnt : 864\n",
      "Sadness cnt : 708\n",
      "Shame cnt : 107\n"
     ]
    }
   ],
   "source": [
    "emotion_str_arr = ['Anger', 'Hate', 'Fear', 'Sorry', 'Joy', 'Neutral', 'Sadness', 'Shame']\n",
    "\n",
    "cnt_list = []\n",
    "for i in range(8):\n",
    "    cnt_list.append(0)\n",
    "\n",
    "sum_dic = {}\n",
    "    \n",
    "for label in Y:\n",
    "    cnt_list[label] += 1\n",
    "    \n",
    "for i in range(len(cnt_list)):\n",
    "    print(emotion_str_arr[i],\"cnt :\", cnt_list[i])\n",
    "    "
   ]
  },
  {
   "cell_type": "code",
   "execution_count": 5,
   "metadata": {},
   "outputs": [
    {
     "name": "stdout",
     "output_type": "stream",
     "text": [
      "3221 3221\n"
     ]
    }
   ],
   "source": [
    "X_train, X_test, Y_train, Y_test = train_test_split(X, Y, test_size=0.25, random_state=42)\n",
    "\n",
    "Y_train = np_utils.to_categorical(Y_train, nb_classes)\n",
    "Y_test = np_utils.to_categorical(Y_test, nb_classes)\n",
    "print(len(X_train), len(Y_train))\n",
    "\n",
    "X_train = np.array(X_train)\n",
    "X_test = np.array(X_test)\n",
    "\n",
    "s = np.arange(X_train.shape[0])\n",
    "np.random.shuffle(s)\n",
    "\n",
    "X_train = X_train[s]\n",
    "Y_train = Y_train[s]\n",
    "\n",
    "X_train = d_2d_to_3d(X_train)\n",
    "X_test = d_2d_to_3d(X_test)"
   ]
  },
  {
   "cell_type": "code",
   "execution_count": 6,
   "metadata": {},
   "outputs": [
    {
     "name": "stdout",
     "output_type": "stream",
     "text": [
      "MaxWords :  37624\n",
      "Data shape :  (1, 194, 194, 1)\n"
     ]
    }
   ],
   "source": [
    "print(\"MaxWords : \",max_words)\n",
    "print(\"Data shape : \", X_train[:1].shape)"
   ]
  },
  {
   "cell_type": "code",
   "execution_count": 7,
   "metadata": {},
   "outputs": [
    {
     "name": "stderr",
     "output_type": "stream",
     "text": [
      "/Library/Frameworks/Python.framework/Versions/3.6/lib/python3.6/site-packages/ipykernel_launcher.py:4: UserWarning: Update your `Conv2D` call to the Keras 2 API: `Conv2D(32, (3, 3), input_shape=(194, 194,..., activation=\"relu\")`\n",
      "  after removing the cwd from sys.path.\n",
      "/Library/Frameworks/Python.framework/Versions/3.6/lib/python3.6/site-packages/ipykernel_launcher.py:6: UserWarning: Update your `Conv2D` call to the Keras 2 API: `Conv2D(32, (3, 3), activation=\"relu\")`\n",
      "  \n"
     ]
    },
    {
     "name": "stdout",
     "output_type": "stream",
     "text": [
      "_________________________________________________________________\n",
      "Layer (type)                 Output Shape              Param #   \n",
      "=================================================================\n",
      "conv2d_1 (Conv2D)            (None, 192, 192, 32)      320       \n",
      "_________________________________________________________________\n",
      "max_pooling2d_1 (MaxPooling2 (None, 96, 96, 32)        0         \n",
      "_________________________________________________________________\n",
      "conv2d_2 (Conv2D)            (None, 94, 94, 32)        9248      \n",
      "_________________________________________________________________\n",
      "max_pooling2d_2 (MaxPooling2 (None, 47, 47, 32)        0         \n",
      "_________________________________________________________________\n",
      "dropout_1 (Dropout)          (None, 47, 47, 32)        0         \n",
      "_________________________________________________________________\n",
      "flatten_1 (Flatten)          (None, 70688)             0         \n",
      "_________________________________________________________________\n",
      "dense_1 (Dense)              (None, 128)               9048192   \n",
      "_________________________________________________________________\n",
      "dropout_2 (Dropout)          (None, 128)               0         \n",
      "_________________________________________________________________\n",
      "dense_2 (Dense)              (None, 8)                 1032      \n",
      "=================================================================\n",
      "Total params: 9,058,792\n",
      "Trainable params: 9,058,792\n",
      "Non-trainable params: 0\n",
      "_________________________________________________________________\n",
      "None\n",
      "Train on 2576 samples, validate on 645 samples\n",
      "Epoch 1/10\n",
      "2576/2576 [==============================] - 129s 50ms/step - loss: 1.1595 - acc: 0.5664 - val_loss: 0.4131 - val_acc: 0.8636\n",
      "Epoch 2/10\n",
      "2576/2576 [==============================] - 124s 48ms/step - loss: 0.2561 - acc: 0.9154 - val_loss: 0.1979 - val_acc: 0.9364\n",
      "Epoch 3/10\n",
      "2576/2576 [==============================] - 124s 48ms/step - loss: 0.1101 - acc: 0.9666 - val_loss: 0.1722 - val_acc: 0.9473\n",
      "Epoch 4/10\n",
      "2576/2576 [==============================] - 124s 48ms/step - loss: 0.0719 - acc: 0.9802 - val_loss: 0.1649 - val_acc: 0.9457\n",
      "Epoch 5/10\n",
      "2576/2576 [==============================] - 122s 47ms/step - loss: 0.0588 - acc: 0.9829 - val_loss: 0.1884 - val_acc: 0.9566\n",
      "Epoch 6/10\n",
      "2576/2576 [==============================] - 123s 48ms/step - loss: 0.0503 - acc: 0.9841 - val_loss: 0.2258 - val_acc: 0.9473\n",
      "Epoch 7/10\n",
      "2576/2576 [==============================] - 121s 47ms/step - loss: 0.0429 - acc: 0.9868 - val_loss: 0.2119 - val_acc: 0.9473\n",
      "Epoch 8/10\n",
      "2576/2576 [==============================] - 120s 47ms/step - loss: 0.0301 - acc: 0.9922 - val_loss: 0.1726 - val_acc: 0.9457\n",
      "Epoch 9/10\n",
      "2576/2576 [==============================] - 121s 47ms/step - loss: 0.0314 - acc: 0.9887 - val_loss: 0.1808 - val_acc: 0.9457\n",
      "Epoch 10/10\n",
      "2576/2576 [==============================] - 120s 47ms/step - loss: 0.0282 - acc: 0.9926 - val_loss: 0.1957 - val_acc: 0.9504\n"
     ]
    }
   ],
   "source": [
    "size = math.ceil(math.sqrt(max_words))\n",
    "\n",
    "model = Sequential()\n",
    "model.add(Conv2D(32, 3, 3, input_shape=(size, size, 1), activation='relu'))\n",
    "model.add(pooling.MaxPooling2D(pool_size=(2,2)))\n",
    "model.add(Conv2D(32, 3, 3, activation='relu'))\n",
    "model.add(pooling.MaxPooling2D(pool_size=(2,2)))\n",
    "model.add(Dropout(0.25))\n",
    "model.add(Flatten())\n",
    "model.add(Dense(128, activation='relu'))\n",
    "model.add(Dropout(0.5))\n",
    "model.add(Dense(nb_classes, activation='softmax'))\n",
    "\n",
    "model.compile(loss='categorical_crossentropy',\n",
    "            optimizer='adam',\n",
    "            metrics=['accuracy'])\n",
    "print(model.summary())\n",
    "history = model.fit(X_train, Y_train, batch_size=batch_size, epochs=nb_epoch,validation_split=0.2)"
   ]
  },
  {
   "cell_type": "code",
   "execution_count": 8,
   "metadata": {},
   "outputs": [
    {
     "name": "stdout",
     "output_type": "stream",
     "text": [
      "1074/1074 [==============================] - 16s 15ms/step\n",
      "Test set\n",
      "  Loss: 0.158\n",
      "  Accuracy: 0.951\n"
     ]
    },
    {
     "data": {
      "text/plain": [
       "'\\ny = model.predict(X_test)\\nac_score = metrics.accuracy_score(Y_test, y)\\ncl_report = metrics.classification_report(Y_test, y)\\n\\nprint(\"정답률 =\", ac_score)\\nprint(\"리포트 =\", cl_report)\\n'"
      ]
     },
     "execution_count": 8,
     "metadata": {},
     "output_type": "execute_result"
    }
   ],
   "source": [
    "accr = model.evaluate(X_test,Y_test)\n",
    "print('Test set\\n  Loss: {:0.3f}\\n  Accuracy: {:0.3f}'.format(accr[0],accr[1]))\n",
    "'''\n",
    "y = model.predict(X_test)\n",
    "ac_score = metrics.accuracy_score(Y_test, y)\n",
    "cl_report = metrics.classification_report(Y_test, y)\n",
    "\n",
    "print(\"정답률 =\", ac_score)\n",
    "print(\"리포트 =\", cl_report)\n",
    "'''"
   ]
  },
  {
   "cell_type": "code",
   "execution_count": 9,
   "metadata": {},
   "outputs": [
    {
     "data": {
      "image/png": "[encoded data removed]",
      "text/plain": [
       "<Figure size 432x288 with 1 Axes>"
      ]
     },
     "metadata": {},
     "output_type": "display_data"
    },
    {
     "data": {
      "image/png": "[encoded data removed]",
      "text/plain": [
       "<Figure size 432x288 with 1 Axes>"
      ]
     },
     "metadata": {},
     "output_type": "display_data"
    }
   ],
   "source": [
    "%matplotlib inline\n",
    "import matplotlib.pyplot as plt\n",
    "\n",
    "acc = history.history['acc']\n",
    "val_acc = history.history['val_acc']\n",
    "loss = history.history['loss']\n",
    "val_loss = history.history['val_loss']\n",
    "\n",
    "epochs = range(1, len(acc) + 1)\n",
    "\n",
    "plt.plot(epochs, acc, 'bo', label='Training acc')\n",
    "plt.plot(epochs, val_acc, 'b', label='Validation acc')\n",
    "plt.title('Training and validation accuracy')\n",
    "plt.legend()\n",
    "\n",
    "plt.figure()\n",
    "\n",
    "plt.plot(epochs, loss, 'bo', label='Training loss')\n",
    "plt.plot(epochs, val_loss, 'b', label='Validation loss')\n",
    "plt.title('Training and validation loss')\n",
    "plt.legend()\n",
    "\n",
    "plt.show()"
   ]
  },
  {
   "cell_type": "code",
   "execution_count": 32,
   "metadata": {},
   "outputs": [
    {
     "name": "stdout",
     "output_type": "stream",
     "text": [
      "Get index/word 245 sorri\n",
      "Get index/word 1290 yell\n",
      "Get index/word 742 mom\n",
      "Get index/word 754 well\n",
      "Get index/word 3260 injur\n",
      "Get index/word 104 mother\n",
      "Get index/word 563 cri\n",
      "Get index/word 431 want\n",
      "Get index/word 2119 apolog\n",
      "[245, 1290, 742, 754, 3260, 104, 563, 431, 2119]\n",
      "37624\n",
      "예측 =  Sadness\n"
     ]
    }
   ],
   "source": [
    "TEST_SENTENCE = 'I was sorry to yell at my mom. I did not do well, and my injured mother cried. I want to apologize.'\n",
    "\n",
    "X_input = wordDictionary.GetInputData(TEST_SENTENCE, prev_language='en')\n",
    "X_input = np.array(X_input)\n",
    "X_input = X_input.reshape(1, X_input.size)\n",
    "X_input = d_2d_to_3d(X_input)\n",
    "\n",
    "y = model.predict(X_input)\n",
    "print(\"예측 = \", emotion_str_arr[np.argmax(y[0])])"
   ]
  }
 ],
 "metadata": {
  "kernelspec": {
   "display_name": "Python 3",
   "language": "python",
   "name": "python3"
  },
  "language_info": {
   "codemirror_mode": {
    "name": "ipython",
    "version": 3
   },
   "file_extension": ".py",
   "mimetype": "text/x-python",
   "name": "python",
   "nbconvert_exporter": "python",
   "pygments_lexer": "ipython3",
   "version": "3.6.5"
  }
 },
 "nbformat": 4,
 "nbformat_minor": 2
}
